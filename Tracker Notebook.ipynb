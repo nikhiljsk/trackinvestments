{
 "cells": [
  {
   "cell_type": "code",
   "execution_count": null,
   "id": "ab6bebe3",
   "metadata": {},
   "outputs": [],
   "source": [
    "Investor_name = \"JSK\""
   ]
  },
  {
   "cell_type": "code",
   "execution_count": null,
   "id": "7abb6952",
   "metadata": {},
   "outputs": [],
   "source": [
    "# Imports\n",
    "import pandas as pd\n",
    "from nsetools import Nse\n",
    "pd.set_option('display.float_format', lambda x: '%.3f' % x)\n",
    "\n",
    "\n",
    "def get_data(filename=\"./data/Investments.csv\", sheetname=\"Common\", type=\"csv\"):\n",
    "    if type == \"csv\":\n",
    "        return pd.read_csv(filename)\n",
    "    return pd.read_excel(filename, sheet_name=sheetname, engine=\"openpyxl\")\n",
    "\n",
    "\n",
    "def convert_amount(x):\n",
    "    if x['Transaction Type'] == \"Investment\":\n",
    "        return x['Amount']\n",
    "    return -1*x['Amount']\n",
    "\n",
    "\n",
    "def convert_quantity(x):\n",
    "    if x['Transaction Type'] == \"Investment\":\n",
    "        return x['Sub-type quantity']\n",
    "    return -1*x['Sub-type quantity']\n",
    "\n",
    "def get_stock_live_price(symbol):\n",
    "    try:\n",
    "        return round(float(nse.get_quote(symbol)['lastPrice']), 2)\n",
    "    except Exception as e:\n",
    "        print(\"Couldn't fetch live price for a stock.\", e)\n",
    "        return 0\n",
    "    \n",
    "\n",
    "def name_to_symbol(name):\n",
    "    try:\n",
    "        return get_stock_live_price(s_dict[name])\n",
    "    except Exception as e:\n",
    "        print(\"Coulnd't find symbol for:\", e)\n",
    "        return 0\n",
    "\n",
    "\n",
    "# Initialize\n",
    "nse = Nse()\n",
    "\n",
    "# Get data\n",
    "df = get_data()\n",
    "df.dropna(axis=1, how='all', inplace=True)\n",
    "\n",
    "# Get stocks data\n",
    "stock_names_df = pd.read_csv(\"./data/Stock_Symbols_NSE.csv\")\n",
    "stock_names_df.dropna(inplace=True)\n",
    "s_names = [x.lower().strip() for x in stock_names_df['Company Name']]\n",
    "s_symbol = [x.lower().strip() for x in stock_names_df['Symbol']]\n",
    "s_dict = dict()\n",
    "for k, v in zip(s_names, s_symbol):\n",
    "    s_dict[k] = v\n",
    "\n",
    "# Convert amount based on trasaction type\n",
    "df[\"Amount\"] = df[[\"Amount\", \"Transaction Type\"]].apply(lambda x: convert_amount(x), axis=1)\n",
    "# Convert quantity based on trasaction type\n",
    "df[\"Sub-type quantity\"] = df[[\"Sub-type quantity\", \"Transaction Type\"]].apply(lambda x: convert_quantity(x), axis=1)\n",
    "\n",
    "# Convert USD to INR\n",
    "dollar_rate = 74.38\n",
    "df['Amount_INR'] = df['Amount']\n",
    "df['Amount_INR'] = df[df['Currency']=='USD']['Amount'].apply(lambda x: x*dollar_rate)\n",
    "df.Amount_INR.fillna(df.Amount, inplace=True)"
   ]
  },
  {
   "cell_type": "markdown",
   "id": "d514846c",
   "metadata": {},
   "source": [
    "## Get Details!!"
   ]
  },
  {
   "cell_type": "code",
   "execution_count": null,
   "id": "ea166acc",
   "metadata": {},
   "outputs": [],
   "source": [
    "query1 = df[(df['Investor']==Investor_name) & (df['Type']=='Stocks')].groupby(['Investor', 'Sub-type']).sum()\n",
    "print(\"Profit drawn already:\", -1 * sum(query1[query1['Sub-type quantity'] == 0]['Amount_INR'].tolist()))\n",
    "query1 = query1[query1['Sub-type quantity'] != 0]\n",
    "\n",
    "query1"
   ]
  },
  {
   "cell_type": "code",
   "execution_count": null,
   "id": "c03b8a2a",
   "metadata": {},
   "outputs": [],
   "source": [
    "query2 = df[(df['Investor']==Investor_name) & (df['Type']=='Crypto')].groupby(['Investor', 'Sub-type']).sum()\n",
    "query2"
   ]
  },
  {
   "cell_type": "code",
   "execution_count": null,
   "id": "e590e6e1",
   "metadata": {},
   "outputs": [],
   "source": [
    "print(\"Total invested in Stocks:\", sum(query1['Amount_INR'].tolist()))\n",
    "print(\"Total invested in Crypto:\", sum(query2['Amount_INR'].tolist()))\n",
    "print(\"Total invested in Stocks & Crypto:\", sum(query1['Amount_INR'].tolist())+sum(query2['Amount_INR'].tolist()))"
   ]
  },
  {
   "cell_type": "code",
   "execution_count": null,
   "id": "5bf0552f",
   "metadata": {},
   "outputs": [],
   "source": [
    "# All investors combined for each platform\n",
    "df[(df['Type']=='Crypto') | (df['Type']=='Stocks')].groupby(\"Platform\").sum().reset_index()[['Platform', 'Amount_INR']]"
   ]
  },
  {
   "cell_type": "markdown",
   "id": "078fee4d",
   "metadata": {},
   "source": [
    "## Get current prices"
   ]
  },
  {
   "cell_type": "markdown",
   "id": "civil-daniel",
   "metadata": {},
   "source": [
    "## Stocks"
   ]
  },
  {
   "cell_type": "code",
   "execution_count": null,
   "id": "compressed-revolution",
   "metadata": {},
   "outputs": [],
   "source": [
    "query1 = query1.reset_index()\n",
    "query1['Stock_Live_Price'] = query1['Sub-type'].apply(lambda x: name_to_symbol(x.lower().strip()))\n",
    "query1['Stock_Live_Price'] = query1['Stock_Live_Price'] * query1['Sub-type quantity']\n",
    "query1"
   ]
  },
  {
   "cell_type": "code",
   "execution_count": null,
   "id": "concrete-penny",
   "metadata": {},
   "outputs": [],
   "source": [
    "invested_amount = round(sum(query1['Amount_INR'].tolist()), 2)\n",
    "current_value = round(sum(query1['Stock_Live_Price'].tolist()), 2)\n",
    "print(\"Total invested in Stocks:\", invested_amount)\n",
    "print(\"Total value in Stocks:\", current_value)\n",
    "try:\n",
    "    print(\"Total profit/loss in Stocks: {0} \\t({1}%)\".format(current_value-invested_amount, round(((current_value-invested_amount)/invested_amount)*100, 2))) \n",
    "except Exception as e:\n",
    "    print(\"\")"
   ]
  },
  {
   "cell_type": "code",
   "execution_count": null,
   "id": "5a07dc47",
   "metadata": {},
   "outputs": [],
   "source": [
    "import json\n",
    "import requests\n",
    "\n",
    "prices_coins = requests.get('https://api.wazirx.com/api/v2/tickers')\n",
    "\n",
    "\n",
    "def warizx_price_fetch(coin, quantity):\n",
    "    market_value = json.loads(prices_coins.text)[str(coin).lower()+\"inr\"]['last']\n",
    "    return float(market_value) * float(quantity)\n",
    "\n",
    "prices = list()\n",
    "for row in query2.reset_index().itertuples():\n",
    "    try:\n",
    "        prices.append(warizx_price_fetch(row[2], row[3]))\n",
    "    except KeyError as e:\n",
    "        prices.append(0)\n",
    "        print(\"Skiping:\", row[2])\n",
    "print(\"Done!!\\n\\n------\")\n",
    "query2['Market_value'] = prices\n",
    "query2.drop('Amount', axis=1, inplace=True)\n",
    "\n",
    "invested_amount = round(sum(query2['Amount_INR'].tolist()), 2)\n",
    "current_value = round(sum(query2['Market_value'].tolist()), 2)\n",
    "print(\"Total invested in Crypto:\", invested_amount)\n",
    "print(\"Total value in Crypto:\", current_value)\n",
    "print(\"Total profit/loss in Crypto: {0} \\t({1}%)\".format(current_value-invested_amount, round(((current_value-invested_amount)/invested_amount)*100, 2))) \n",
    "print(\"!! Note !! - Skipping the market value of coins that are not listed in WazirX\")"
   ]
  },
  {
   "cell_type": "code",
   "execution_count": null,
   "id": "520eb8ff",
   "metadata": {},
   "outputs": [],
   "source": [
    "query2"
   ]
  },
  {
   "cell_type": "code",
   "execution_count": null,
   "id": "greenhouse-father",
   "metadata": {},
   "outputs": [],
   "source": []
  }
 ],
 "metadata": {
  "kernelspec": {
   "display_name": "Python 3",
   "language": "python",
   "name": "python3"
  },
  "language_info": {
   "codemirror_mode": {
    "name": "ipython",
    "version": 3
   },
   "file_extension": ".py",
   "mimetype": "text/x-python",
   "name": "python",
   "nbconvert_exporter": "python",
   "pygments_lexer": "ipython3",
   "version": "3.7.9"
  }
 },
 "nbformat": 4,
 "nbformat_minor": 5
}
